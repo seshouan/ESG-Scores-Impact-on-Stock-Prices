{
 "cells": [
  {
   "cell_type": "code",
   "execution_count": 18,
   "id": "519d214f-3904-4a5c-8a32-ef7a632e8a61",
   "metadata": {},
   "outputs": [
    {
     "data": {
      "text/plain": [
       "WindowsPath('Tex Ins stock.csv')"
      ]
     },
     "execution_count": 18,
     "metadata": {},
     "output_type": "execute_result"
    }
   ],
   "source": [
    "import pandas as pd\n",
    "from pathlib import Path\n",
    "import seaborn as sns\n",
    "import numpy as np\n",
    "%matplotlib inline\n",
    "\n",
    "# GoogleFinance files for My Portfolio\n",
    "aapl_data = Path(\"Apple stock.csv\")\n",
    "msft_data = Path(\"Microsoft stock.csv\")\n",
    "csco_data = Path(\"Cisco stock.csv\")\n",
    "goog_data = Path(\"Google stock.csv\")\n",
    "intl_data = Path(\"Intel stock.csv\")\n",
    "nvda_data = Path(\"Nvidia stock.csv\")\n",
    "orcl_data = Path(\"Oracle stock.csv\")\n",
    "tex_data = Path(\"Tex Ins stock.csv\")\n",
    "ESG_data = Path(\"ESG Scores.csv\")\n",
    "tex_data"
   ]
  },
  {
   "cell_type": "code",
   "execution_count": 19,
   "id": "40bdb67d-13fa-4b9d-8e18-0fd2d891fa1a",
   "metadata": {},
   "outputs": [
    {
     "data": {
      "text/html": [
       "<div>\n",
       "<style scoped>\n",
       "    .dataframe tbody tr th:only-of-type {\n",
       "        vertical-align: middle;\n",
       "    }\n",
       "\n",
       "    .dataframe tbody tr th {\n",
       "        vertical-align: top;\n",
       "    }\n",
       "\n",
       "    .dataframe thead th {\n",
       "        text-align: right;\n",
       "    }\n",
       "</style>\n",
       "<table border=\"1\" class=\"dataframe\">\n",
       "  <thead>\n",
       "    <tr style=\"text-align: right;\">\n",
       "      <th></th>\n",
       "      <th>TICKER</th>\n",
       "      <th>Close</th>\n",
       "    </tr>\n",
       "    <tr>\n",
       "      <th>Date</th>\n",
       "      <th></th>\n",
       "      <th></th>\n",
       "    </tr>\n",
       "  </thead>\n",
       "  <tbody>\n",
       "    <tr>\n",
       "      <th>2010-01-04 16:00:00</th>\n",
       "      <td>TXN</td>\n",
       "      <td>26.01</td>\n",
       "    </tr>\n",
       "    <tr>\n",
       "      <th>2010-01-05 16:00:00</th>\n",
       "      <td>TXN</td>\n",
       "      <td>25.86</td>\n",
       "    </tr>\n",
       "    <tr>\n",
       "      <th>2010-01-06 16:00:00</th>\n",
       "      <td>TXN</td>\n",
       "      <td>25.67</td>\n",
       "    </tr>\n",
       "    <tr>\n",
       "      <th>2010-01-07 16:00:00</th>\n",
       "      <td>TXN</td>\n",
       "      <td>25.75</td>\n",
       "    </tr>\n",
       "    <tr>\n",
       "      <th>2010-01-08 16:00:00</th>\n",
       "      <td>TXN</td>\n",
       "      <td>26.34</td>\n",
       "    </tr>\n",
       "    <tr>\n",
       "      <th>...</th>\n",
       "      <td>...</td>\n",
       "      <td>...</td>\n",
       "    </tr>\n",
       "    <tr>\n",
       "      <th>2022-12-23 16:00:00</th>\n",
       "      <td>TXN</td>\n",
       "      <td>164.38</td>\n",
       "    </tr>\n",
       "    <tr>\n",
       "      <th>2022-12-27 16:00:00</th>\n",
       "      <td>TXN</td>\n",
       "      <td>163.78</td>\n",
       "    </tr>\n",
       "    <tr>\n",
       "      <th>2022-12-28 16:00:00</th>\n",
       "      <td>TXN</td>\n",
       "      <td>161.19</td>\n",
       "    </tr>\n",
       "    <tr>\n",
       "      <th>2022-12-29 16:00:00</th>\n",
       "      <td>TXN</td>\n",
       "      <td>165.02</td>\n",
       "    </tr>\n",
       "    <tr>\n",
       "      <th>2022-12-30 16:00:00</th>\n",
       "      <td>TXN</td>\n",
       "      <td>165.22</td>\n",
       "    </tr>\n",
       "  </tbody>\n",
       "</table>\n",
       "<p>3272 rows × 2 columns</p>\n",
       "</div>"
      ],
      "text/plain": [
       "                    TICKER   Close\n",
       "Date                              \n",
       "2010-01-04 16:00:00    TXN   26.01\n",
       "2010-01-05 16:00:00    TXN   25.86\n",
       "2010-01-06 16:00:00    TXN   25.67\n",
       "2010-01-07 16:00:00    TXN   25.75\n",
       "2010-01-08 16:00:00    TXN   26.34\n",
       "...                    ...     ...\n",
       "2022-12-23 16:00:00    TXN  164.38\n",
       "2022-12-27 16:00:00    TXN  163.78\n",
       "2022-12-28 16:00:00    TXN  161.19\n",
       "2022-12-29 16:00:00    TXN  165.02\n",
       "2022-12-30 16:00:00    TXN  165.22\n",
       "\n",
       "[3272 rows x 2 columns]"
      ]
     },
     "execution_count": 19,
     "metadata": {},
     "output_type": "execute_result"
    }
   ],
   "source": [
    "# Read the individual CSV datasets \n",
    "apple = pd.read_csv(aapl_data, index_col=\"Date\",infer_datetime_format=True, parse_dates=True)\n",
    "msft = pd.read_csv(msft_data, index_col=\"Date\",infer_datetime_format=True, parse_dates=True)\n",
    "cisco = pd.read_csv(csco_data, index_col=\"Date\",infer_datetime_format=True, parse_dates=True)\n",
    "google = pd.read_csv(goog_data, index_col=\"Date\",infer_datetime_format=True, parse_dates=True)\n",
    "intel = pd.read_csv(intl_data, index_col=\"Date\",infer_datetime_format=True, parse_dates=True)\n",
    "nvidia = pd.read_csv(nvda_data, index_col=\"Date\",infer_datetime_format=True, parse_dates=True)\n",
    "oracle = pd.read_csv(orcl_data, index_col=\"Date\",infer_datetime_format=True, parse_dates=True)\n",
    "tex_ins = pd.read_csv(tex_data, index_col=\"Date\",infer_datetime_format=True, parse_dates=True)\n",
    "ESG = pd.read_csv(ESG_data, index_col=\"Fiscal Year End Date\",infer_datetime_format=True, parse_dates=True)\n",
    "\n",
    "ESG\n",
    "cisco\n",
    "oracle\n",
    "tex_ins"
   ]
  },
  {
   "cell_type": "code",
   "execution_count": null,
   "id": "35f16ac2-b564-44b7-9b5f-e58f4daa3670",
   "metadata": {},
   "outputs": [],
   "source": []
  },
  {
   "cell_type": "code",
   "execution_count": null,
   "id": "53ec004e-3908-4994-805f-def2bbbac394",
   "metadata": {},
   "outputs": [],
   "source": []
  }
 ],
 "metadata": {
  "kernelspec": {
   "display_name": "Python 3 (ipykernel)",
   "language": "python",
   "name": "python3"
  },
  "language_info": {
   "codemirror_mode": {
    "name": "ipython",
    "version": 3
   },
   "file_extension": ".py",
   "mimetype": "text/x-python",
   "name": "python",
   "nbconvert_exporter": "python",
   "pygments_lexer": "ipython3",
   "version": "3.10.9"
  }
 },
 "nbformat": 4,
 "nbformat_minor": 5
}
